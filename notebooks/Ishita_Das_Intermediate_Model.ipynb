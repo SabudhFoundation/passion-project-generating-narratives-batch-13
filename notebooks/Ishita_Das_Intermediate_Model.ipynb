{
  "nbformat": 4,
  "nbformat_minor": 0,
  "metadata": {
    "colab": {
      "provenance": []
    },
    "kernelspec": {
      "name": "python3",
      "display_name": "Python 3"
    },
    "language_info": {
      "name": "python"
    },
    "widgets": {
      "application/vnd.jupyter.widget-state+json": {
        "80eaaa8235b644f1874f43340053fd92": {
          "model_module": "@jupyter-widgets/controls",
          "model_name": "HBoxModel",
          "model_module_version": "1.5.0",
          "state": {
            "_dom_classes": [],
            "_model_module": "@jupyter-widgets/controls",
            "_model_module_version": "1.5.0",
            "_model_name": "HBoxModel",
            "_view_count": null,
            "_view_module": "@jupyter-widgets/controls",
            "_view_module_version": "1.5.0",
            "_view_name": "HBoxView",
            "box_style": "",
            "children": [
              "IPY_MODEL_a6aeda8fcb3c47afb29f9cb1d21756ee",
              "IPY_MODEL_b125bc84d23a44388a1004c8384718c7",
              "IPY_MODEL_a61d2a671ca740cb8900918de50cd7b4"
            ],
            "layout": "IPY_MODEL_9a717dc4a05c43cd816270e9310e2e7f"
          }
        },
        "a6aeda8fcb3c47afb29f9cb1d21756ee": {
          "model_module": "@jupyter-widgets/controls",
          "model_name": "HTMLModel",
          "model_module_version": "1.5.0",
          "state": {
            "_dom_classes": [],
            "_model_module": "@jupyter-widgets/controls",
            "_model_module_version": "1.5.0",
            "_model_name": "HTMLModel",
            "_view_count": null,
            "_view_module": "@jupyter-widgets/controls",
            "_view_module_version": "1.5.0",
            "_view_name": "HTMLView",
            "description": "",
            "description_tooltip": null,
            "layout": "IPY_MODEL_44b6253521e34ec39f242942430896cb",
            "placeholder": "​",
            "style": "IPY_MODEL_b3d9e446b3af4b028a40f1d9c5908a2f",
            "value": "Loading checkpoint shards: 100%"
          }
        },
        "b125bc84d23a44388a1004c8384718c7": {
          "model_module": "@jupyter-widgets/controls",
          "model_name": "FloatProgressModel",
          "model_module_version": "1.5.0",
          "state": {
            "_dom_classes": [],
            "_model_module": "@jupyter-widgets/controls",
            "_model_module_version": "1.5.0",
            "_model_name": "FloatProgressModel",
            "_view_count": null,
            "_view_module": "@jupyter-widgets/controls",
            "_view_module_version": "1.5.0",
            "_view_name": "ProgressView",
            "bar_style": "success",
            "description": "",
            "description_tooltip": null,
            "layout": "IPY_MODEL_58664b4a301845dcb558254aba6c98b7",
            "max": 2,
            "min": 0,
            "orientation": "horizontal",
            "style": "IPY_MODEL_ad50b198e3a94998973bb39c17a81928",
            "value": 2
          }
        },
        "a61d2a671ca740cb8900918de50cd7b4": {
          "model_module": "@jupyter-widgets/controls",
          "model_name": "HTMLModel",
          "model_module_version": "1.5.0",
          "state": {
            "_dom_classes": [],
            "_model_module": "@jupyter-widgets/controls",
            "_model_module_version": "1.5.0",
            "_model_name": "HTMLModel",
            "_view_count": null,
            "_view_module": "@jupyter-widgets/controls",
            "_view_module_version": "1.5.0",
            "_view_name": "HTMLView",
            "description": "",
            "description_tooltip": null,
            "layout": "IPY_MODEL_ddab409ff6b340bda919d01082c96081",
            "placeholder": "​",
            "style": "IPY_MODEL_0117c21fac814990bda935ba08b1fadd",
            "value": " 2/2 [00:04&lt;00:00,  2.26s/it]"
          }
        },
        "9a717dc4a05c43cd816270e9310e2e7f": {
          "model_module": "@jupyter-widgets/base",
          "model_name": "LayoutModel",
          "model_module_version": "1.2.0",
          "state": {
            "_model_module": "@jupyter-widgets/base",
            "_model_module_version": "1.2.0",
            "_model_name": "LayoutModel",
            "_view_count": null,
            "_view_module": "@jupyter-widgets/base",
            "_view_module_version": "1.2.0",
            "_view_name": "LayoutView",
            "align_content": null,
            "align_items": null,
            "align_self": null,
            "border": null,
            "bottom": null,
            "display": null,
            "flex": null,
            "flex_flow": null,
            "grid_area": null,
            "grid_auto_columns": null,
            "grid_auto_flow": null,
            "grid_auto_rows": null,
            "grid_column": null,
            "grid_gap": null,
            "grid_row": null,
            "grid_template_areas": null,
            "grid_template_columns": null,
            "grid_template_rows": null,
            "height": null,
            "justify_content": null,
            "justify_items": null,
            "left": null,
            "margin": null,
            "max_height": null,
            "max_width": null,
            "min_height": null,
            "min_width": null,
            "object_fit": null,
            "object_position": null,
            "order": null,
            "overflow": null,
            "overflow_x": null,
            "overflow_y": null,
            "padding": null,
            "right": null,
            "top": null,
            "visibility": null,
            "width": null
          }
        },
        "44b6253521e34ec39f242942430896cb": {
          "model_module": "@jupyter-widgets/base",
          "model_name": "LayoutModel",
          "model_module_version": "1.2.0",
          "state": {
            "_model_module": "@jupyter-widgets/base",
            "_model_module_version": "1.2.0",
            "_model_name": "LayoutModel",
            "_view_count": null,
            "_view_module": "@jupyter-widgets/base",
            "_view_module_version": "1.2.0",
            "_view_name": "LayoutView",
            "align_content": null,
            "align_items": null,
            "align_self": null,
            "border": null,
            "bottom": null,
            "display": null,
            "flex": null,
            "flex_flow": null,
            "grid_area": null,
            "grid_auto_columns": null,
            "grid_auto_flow": null,
            "grid_auto_rows": null,
            "grid_column": null,
            "grid_gap": null,
            "grid_row": null,
            "grid_template_areas": null,
            "grid_template_columns": null,
            "grid_template_rows": null,
            "height": null,
            "justify_content": null,
            "justify_items": null,
            "left": null,
            "margin": null,
            "max_height": null,
            "max_width": null,
            "min_height": null,
            "min_width": null,
            "object_fit": null,
            "object_position": null,
            "order": null,
            "overflow": null,
            "overflow_x": null,
            "overflow_y": null,
            "padding": null,
            "right": null,
            "top": null,
            "visibility": null,
            "width": null
          }
        },
        "b3d9e446b3af4b028a40f1d9c5908a2f": {
          "model_module": "@jupyter-widgets/controls",
          "model_name": "DescriptionStyleModel",
          "model_module_version": "1.5.0",
          "state": {
            "_model_module": "@jupyter-widgets/controls",
            "_model_module_version": "1.5.0",
            "_model_name": "DescriptionStyleModel",
            "_view_count": null,
            "_view_module": "@jupyter-widgets/base",
            "_view_module_version": "1.2.0",
            "_view_name": "StyleView",
            "description_width": ""
          }
        },
        "58664b4a301845dcb558254aba6c98b7": {
          "model_module": "@jupyter-widgets/base",
          "model_name": "LayoutModel",
          "model_module_version": "1.2.0",
          "state": {
            "_model_module": "@jupyter-widgets/base",
            "_model_module_version": "1.2.0",
            "_model_name": "LayoutModel",
            "_view_count": null,
            "_view_module": "@jupyter-widgets/base",
            "_view_module_version": "1.2.0",
            "_view_name": "LayoutView",
            "align_content": null,
            "align_items": null,
            "align_self": null,
            "border": null,
            "bottom": null,
            "display": null,
            "flex": null,
            "flex_flow": null,
            "grid_area": null,
            "grid_auto_columns": null,
            "grid_auto_flow": null,
            "grid_auto_rows": null,
            "grid_column": null,
            "grid_gap": null,
            "grid_row": null,
            "grid_template_areas": null,
            "grid_template_columns": null,
            "grid_template_rows": null,
            "height": null,
            "justify_content": null,
            "justify_items": null,
            "left": null,
            "margin": null,
            "max_height": null,
            "max_width": null,
            "min_height": null,
            "min_width": null,
            "object_fit": null,
            "object_position": null,
            "order": null,
            "overflow": null,
            "overflow_x": null,
            "overflow_y": null,
            "padding": null,
            "right": null,
            "top": null,
            "visibility": null,
            "width": null
          }
        },
        "ad50b198e3a94998973bb39c17a81928": {
          "model_module": "@jupyter-widgets/controls",
          "model_name": "ProgressStyleModel",
          "model_module_version": "1.5.0",
          "state": {
            "_model_module": "@jupyter-widgets/controls",
            "_model_module_version": "1.5.0",
            "_model_name": "ProgressStyleModel",
            "_view_count": null,
            "_view_module": "@jupyter-widgets/base",
            "_view_module_version": "1.2.0",
            "_view_name": "StyleView",
            "bar_color": null,
            "description_width": ""
          }
        },
        "ddab409ff6b340bda919d01082c96081": {
          "model_module": "@jupyter-widgets/base",
          "model_name": "LayoutModel",
          "model_module_version": "1.2.0",
          "state": {
            "_model_module": "@jupyter-widgets/base",
            "_model_module_version": "1.2.0",
            "_model_name": "LayoutModel",
            "_view_count": null,
            "_view_module": "@jupyter-widgets/base",
            "_view_module_version": "1.2.0",
            "_view_name": "LayoutView",
            "align_content": null,
            "align_items": null,
            "align_self": null,
            "border": null,
            "bottom": null,
            "display": null,
            "flex": null,
            "flex_flow": null,
            "grid_area": null,
            "grid_auto_columns": null,
            "grid_auto_flow": null,
            "grid_auto_rows": null,
            "grid_column": null,
            "grid_gap": null,
            "grid_row": null,
            "grid_template_areas": null,
            "grid_template_columns": null,
            "grid_template_rows": null,
            "height": null,
            "justify_content": null,
            "justify_items": null,
            "left": null,
            "margin": null,
            "max_height": null,
            "max_width": null,
            "min_height": null,
            "min_width": null,
            "object_fit": null,
            "object_position": null,
            "order": null,
            "overflow": null,
            "overflow_x": null,
            "overflow_y": null,
            "padding": null,
            "right": null,
            "top": null,
            "visibility": null,
            "width": null
          }
        },
        "0117c21fac814990bda935ba08b1fadd": {
          "model_module": "@jupyter-widgets/controls",
          "model_name": "DescriptionStyleModel",
          "model_module_version": "1.5.0",
          "state": {
            "_model_module": "@jupyter-widgets/controls",
            "_model_module_version": "1.5.0",
            "_model_name": "DescriptionStyleModel",
            "_view_count": null,
            "_view_module": "@jupyter-widgets/base",
            "_view_module_version": "1.2.0",
            "_view_name": "StyleView",
            "description_width": ""
          }
        },
        "39b40aa348ef4fb995b71e9d226aaf06": {
          "model_module": "@jupyter-widgets/controls",
          "model_name": "HBoxModel",
          "model_module_version": "1.5.0",
          "state": {
            "_dom_classes": [],
            "_model_module": "@jupyter-widgets/controls",
            "_model_module_version": "1.5.0",
            "_model_name": "HBoxModel",
            "_view_count": null,
            "_view_module": "@jupyter-widgets/controls",
            "_view_module_version": "1.5.0",
            "_view_name": "HBoxView",
            "box_style": "",
            "children": [
              "IPY_MODEL_ae01d51c48394c0e8c5236ce6a619714",
              "IPY_MODEL_f7dd278b2e2144b0a0cd2c6e20f97920",
              "IPY_MODEL_0b7e1c6fc35a4d898483b76b34e5ff86"
            ],
            "layout": "IPY_MODEL_d503130b6e5d480f8db660270c10a21c"
          }
        },
        "ae01d51c48394c0e8c5236ce6a619714": {
          "model_module": "@jupyter-widgets/controls",
          "model_name": "HTMLModel",
          "model_module_version": "1.5.0",
          "state": {
            "_dom_classes": [],
            "_model_module": "@jupyter-widgets/controls",
            "_model_module_version": "1.5.0",
            "_model_name": "HTMLModel",
            "_view_count": null,
            "_view_module": "@jupyter-widgets/controls",
            "_view_module_version": "1.5.0",
            "_view_name": "HTMLView",
            "description": "",
            "description_tooltip": null,
            "layout": "IPY_MODEL_fd9d5784d480426fab70ea5dd26cc31d",
            "placeholder": "​",
            "style": "IPY_MODEL_81b53b93f16a47aaa19a73eb10767e4f",
            "value": "Loading checkpoint shards: 100%"
          }
        },
        "f7dd278b2e2144b0a0cd2c6e20f97920": {
          "model_module": "@jupyter-widgets/controls",
          "model_name": "FloatProgressModel",
          "model_module_version": "1.5.0",
          "state": {
            "_dom_classes": [],
            "_model_module": "@jupyter-widgets/controls",
            "_model_module_version": "1.5.0",
            "_model_name": "FloatProgressModel",
            "_view_count": null,
            "_view_module": "@jupyter-widgets/controls",
            "_view_module_version": "1.5.0",
            "_view_name": "ProgressView",
            "bar_style": "success",
            "description": "",
            "description_tooltip": null,
            "layout": "IPY_MODEL_7a8a18220a064f7a8c625dde071d9c39",
            "max": 2,
            "min": 0,
            "orientation": "horizontal",
            "style": "IPY_MODEL_392f52c92f28440badfe0b4c071b3ca3",
            "value": 2
          }
        },
        "0b7e1c6fc35a4d898483b76b34e5ff86": {
          "model_module": "@jupyter-widgets/controls",
          "model_name": "HTMLModel",
          "model_module_version": "1.5.0",
          "state": {
            "_dom_classes": [],
            "_model_module": "@jupyter-widgets/controls",
            "_model_module_version": "1.5.0",
            "_model_name": "HTMLModel",
            "_view_count": null,
            "_view_module": "@jupyter-widgets/controls",
            "_view_module_version": "1.5.0",
            "_view_name": "HTMLView",
            "description": "",
            "description_tooltip": null,
            "layout": "IPY_MODEL_9d164896e9654140b598657c3e304c2a",
            "placeholder": "​",
            "style": "IPY_MODEL_7fc3c70543be461da5e771da5ff5745a",
            "value": " 2/2 [00:00&lt;00:00,  2.22it/s]"
          }
        },
        "d503130b6e5d480f8db660270c10a21c": {
          "model_module": "@jupyter-widgets/base",
          "model_name": "LayoutModel",
          "model_module_version": "1.2.0",
          "state": {
            "_model_module": "@jupyter-widgets/base",
            "_model_module_version": "1.2.0",
            "_model_name": "LayoutModel",
            "_view_count": null,
            "_view_module": "@jupyter-widgets/base",
            "_view_module_version": "1.2.0",
            "_view_name": "LayoutView",
            "align_content": null,
            "align_items": null,
            "align_self": null,
            "border": null,
            "bottom": null,
            "display": null,
            "flex": null,
            "flex_flow": null,
            "grid_area": null,
            "grid_auto_columns": null,
            "grid_auto_flow": null,
            "grid_auto_rows": null,
            "grid_column": null,
            "grid_gap": null,
            "grid_row": null,
            "grid_template_areas": null,
            "grid_template_columns": null,
            "grid_template_rows": null,
            "height": null,
            "justify_content": null,
            "justify_items": null,
            "left": null,
            "margin": null,
            "max_height": null,
            "max_width": null,
            "min_height": null,
            "min_width": null,
            "object_fit": null,
            "object_position": null,
            "order": null,
            "overflow": null,
            "overflow_x": null,
            "overflow_y": null,
            "padding": null,
            "right": null,
            "top": null,
            "visibility": null,
            "width": null
          }
        },
        "fd9d5784d480426fab70ea5dd26cc31d": {
          "model_module": "@jupyter-widgets/base",
          "model_name": "LayoutModel",
          "model_module_version": "1.2.0",
          "state": {
            "_model_module": "@jupyter-widgets/base",
            "_model_module_version": "1.2.0",
            "_model_name": "LayoutModel",
            "_view_count": null,
            "_view_module": "@jupyter-widgets/base",
            "_view_module_version": "1.2.0",
            "_view_name": "LayoutView",
            "align_content": null,
            "align_items": null,
            "align_self": null,
            "border": null,
            "bottom": null,
            "display": null,
            "flex": null,
            "flex_flow": null,
            "grid_area": null,
            "grid_auto_columns": null,
            "grid_auto_flow": null,
            "grid_auto_rows": null,
            "grid_column": null,
            "grid_gap": null,
            "grid_row": null,
            "grid_template_areas": null,
            "grid_template_columns": null,
            "grid_template_rows": null,
            "height": null,
            "justify_content": null,
            "justify_items": null,
            "left": null,
            "margin": null,
            "max_height": null,
            "max_width": null,
            "min_height": null,
            "min_width": null,
            "object_fit": null,
            "object_position": null,
            "order": null,
            "overflow": null,
            "overflow_x": null,
            "overflow_y": null,
            "padding": null,
            "right": null,
            "top": null,
            "visibility": null,
            "width": null
          }
        },
        "81b53b93f16a47aaa19a73eb10767e4f": {
          "model_module": "@jupyter-widgets/controls",
          "model_name": "DescriptionStyleModel",
          "model_module_version": "1.5.0",
          "state": {
            "_model_module": "@jupyter-widgets/controls",
            "_model_module_version": "1.5.0",
            "_model_name": "DescriptionStyleModel",
            "_view_count": null,
            "_view_module": "@jupyter-widgets/base",
            "_view_module_version": "1.2.0",
            "_view_name": "StyleView",
            "description_width": ""
          }
        },
        "7a8a18220a064f7a8c625dde071d9c39": {
          "model_module": "@jupyter-widgets/base",
          "model_name": "LayoutModel",
          "model_module_version": "1.2.0",
          "state": {
            "_model_module": "@jupyter-widgets/base",
            "_model_module_version": "1.2.0",
            "_model_name": "LayoutModel",
            "_view_count": null,
            "_view_module": "@jupyter-widgets/base",
            "_view_module_version": "1.2.0",
            "_view_name": "LayoutView",
            "align_content": null,
            "align_items": null,
            "align_self": null,
            "border": null,
            "bottom": null,
            "display": null,
            "flex": null,
            "flex_flow": null,
            "grid_area": null,
            "grid_auto_columns": null,
            "grid_auto_flow": null,
            "grid_auto_rows": null,
            "grid_column": null,
            "grid_gap": null,
            "grid_row": null,
            "grid_template_areas": null,
            "grid_template_columns": null,
            "grid_template_rows": null,
            "height": null,
            "justify_content": null,
            "justify_items": null,
            "left": null,
            "margin": null,
            "max_height": null,
            "max_width": null,
            "min_height": null,
            "min_width": null,
            "object_fit": null,
            "object_position": null,
            "order": null,
            "overflow": null,
            "overflow_x": null,
            "overflow_y": null,
            "padding": null,
            "right": null,
            "top": null,
            "visibility": null,
            "width": null
          }
        },
        "392f52c92f28440badfe0b4c071b3ca3": {
          "model_module": "@jupyter-widgets/controls",
          "model_name": "ProgressStyleModel",
          "model_module_version": "1.5.0",
          "state": {
            "_model_module": "@jupyter-widgets/controls",
            "_model_module_version": "1.5.0",
            "_model_name": "ProgressStyleModel",
            "_view_count": null,
            "_view_module": "@jupyter-widgets/base",
            "_view_module_version": "1.2.0",
            "_view_name": "StyleView",
            "bar_color": null,
            "description_width": ""
          }
        },
        "9d164896e9654140b598657c3e304c2a": {
          "model_module": "@jupyter-widgets/base",
          "model_name": "LayoutModel",
          "model_module_version": "1.2.0",
          "state": {
            "_model_module": "@jupyter-widgets/base",
            "_model_module_version": "1.2.0",
            "_model_name": "LayoutModel",
            "_view_count": null,
            "_view_module": "@jupyter-widgets/base",
            "_view_module_version": "1.2.0",
            "_view_name": "LayoutView",
            "align_content": null,
            "align_items": null,
            "align_self": null,
            "border": null,
            "bottom": null,
            "display": null,
            "flex": null,
            "flex_flow": null,
            "grid_area": null,
            "grid_auto_columns": null,
            "grid_auto_flow": null,
            "grid_auto_rows": null,
            "grid_column": null,
            "grid_gap": null,
            "grid_row": null,
            "grid_template_areas": null,
            "grid_template_columns": null,
            "grid_template_rows": null,
            "height": null,
            "justify_content": null,
            "justify_items": null,
            "left": null,
            "margin": null,
            "max_height": null,
            "max_width": null,
            "min_height": null,
            "min_width": null,
            "object_fit": null,
            "object_position": null,
            "order": null,
            "overflow": null,
            "overflow_x": null,
            "overflow_y": null,
            "padding": null,
            "right": null,
            "top": null,
            "visibility": null,
            "width": null
          }
        },
        "7fc3c70543be461da5e771da5ff5745a": {
          "model_module": "@jupyter-widgets/controls",
          "model_name": "DescriptionStyleModel",
          "model_module_version": "1.5.0",
          "state": {
            "_model_module": "@jupyter-widgets/controls",
            "_model_module_version": "1.5.0",
            "_model_name": "DescriptionStyleModel",
            "_view_count": null,
            "_view_module": "@jupyter-widgets/base",
            "_view_module_version": "1.2.0",
            "_view_name": "StyleView",
            "description_width": ""
          }
        },
        "ef7ed01e0447429c851e5444d28cb4e8": {
          "model_module": "@jupyter-widgets/controls",
          "model_name": "HBoxModel",
          "model_module_version": "1.5.0",
          "state": {
            "_dom_classes": [],
            "_model_module": "@jupyter-widgets/controls",
            "_model_module_version": "1.5.0",
            "_model_name": "HBoxModel",
            "_view_count": null,
            "_view_module": "@jupyter-widgets/controls",
            "_view_module_version": "1.5.0",
            "_view_name": "HBoxView",
            "box_style": "",
            "children": [
              "IPY_MODEL_15bc629786ad44aa94cfa5dd4df5c4b4",
              "IPY_MODEL_3d5bf70d893c431aa74cd7d5f1e05f9b",
              "IPY_MODEL_62a7751fa63541598728a8958ab89b18"
            ],
            "layout": "IPY_MODEL_93d333aa631e4db6808c869bc907e060"
          }
        },
        "15bc629786ad44aa94cfa5dd4df5c4b4": {
          "model_module": "@jupyter-widgets/controls",
          "model_name": "HTMLModel",
          "model_module_version": "1.5.0",
          "state": {
            "_dom_classes": [],
            "_model_module": "@jupyter-widgets/controls",
            "_model_module_version": "1.5.0",
            "_model_name": "HTMLModel",
            "_view_count": null,
            "_view_module": "@jupyter-widgets/controls",
            "_view_module_version": "1.5.0",
            "_view_name": "HTMLView",
            "description": "",
            "description_tooltip": null,
            "layout": "IPY_MODEL_24d042a5690e4840838b91d649e8a8a4",
            "placeholder": "​",
            "style": "IPY_MODEL_89a349e4f9284413b3bad9afefa03c16",
            "value": "Loading checkpoint shards: 100%"
          }
        },
        "3d5bf70d893c431aa74cd7d5f1e05f9b": {
          "model_module": "@jupyter-widgets/controls",
          "model_name": "FloatProgressModel",
          "model_module_version": "1.5.0",
          "state": {
            "_dom_classes": [],
            "_model_module": "@jupyter-widgets/controls",
            "_model_module_version": "1.5.0",
            "_model_name": "FloatProgressModel",
            "_view_count": null,
            "_view_module": "@jupyter-widgets/controls",
            "_view_module_version": "1.5.0",
            "_view_name": "ProgressView",
            "bar_style": "success",
            "description": "",
            "description_tooltip": null,
            "layout": "IPY_MODEL_65dc75076e514b899fae662f14b8aa89",
            "max": 2,
            "min": 0,
            "orientation": "horizontal",
            "style": "IPY_MODEL_323db4ba862f41e3be293c0e2fc816c0",
            "value": 2
          }
        },
        "62a7751fa63541598728a8958ab89b18": {
          "model_module": "@jupyter-widgets/controls",
          "model_name": "HTMLModel",
          "model_module_version": "1.5.0",
          "state": {
            "_dom_classes": [],
            "_model_module": "@jupyter-widgets/controls",
            "_model_module_version": "1.5.0",
            "_model_name": "HTMLModel",
            "_view_count": null,
            "_view_module": "@jupyter-widgets/controls",
            "_view_module_version": "1.5.0",
            "_view_name": "HTMLView",
            "description": "",
            "description_tooltip": null,
            "layout": "IPY_MODEL_b474ff5dc4b749309c8183b173e89810",
            "placeholder": "​",
            "style": "IPY_MODEL_067733a927404bf79942a4ee8ff52c31",
            "value": " 2/2 [00:01&lt;00:00,  1.40it/s]"
          }
        },
        "93d333aa631e4db6808c869bc907e060": {
          "model_module": "@jupyter-widgets/base",
          "model_name": "LayoutModel",
          "model_module_version": "1.2.0",
          "state": {
            "_model_module": "@jupyter-widgets/base",
            "_model_module_version": "1.2.0",
            "_model_name": "LayoutModel",
            "_view_count": null,
            "_view_module": "@jupyter-widgets/base",
            "_view_module_version": "1.2.0",
            "_view_name": "LayoutView",
            "align_content": null,
            "align_items": null,
            "align_self": null,
            "border": null,
            "bottom": null,
            "display": null,
            "flex": null,
            "flex_flow": null,
            "grid_area": null,
            "grid_auto_columns": null,
            "grid_auto_flow": null,
            "grid_auto_rows": null,
            "grid_column": null,
            "grid_gap": null,
            "grid_row": null,
            "grid_template_areas": null,
            "grid_template_columns": null,
            "grid_template_rows": null,
            "height": null,
            "justify_content": null,
            "justify_items": null,
            "left": null,
            "margin": null,
            "max_height": null,
            "max_width": null,
            "min_height": null,
            "min_width": null,
            "object_fit": null,
            "object_position": null,
            "order": null,
            "overflow": null,
            "overflow_x": null,
            "overflow_y": null,
            "padding": null,
            "right": null,
            "top": null,
            "visibility": null,
            "width": null
          }
        },
        "24d042a5690e4840838b91d649e8a8a4": {
          "model_module": "@jupyter-widgets/base",
          "model_name": "LayoutModel",
          "model_module_version": "1.2.0",
          "state": {
            "_model_module": "@jupyter-widgets/base",
            "_model_module_version": "1.2.0",
            "_model_name": "LayoutModel",
            "_view_count": null,
            "_view_module": "@jupyter-widgets/base",
            "_view_module_version": "1.2.0",
            "_view_name": "LayoutView",
            "align_content": null,
            "align_items": null,
            "align_self": null,
            "border": null,
            "bottom": null,
            "display": null,
            "flex": null,
            "flex_flow": null,
            "grid_area": null,
            "grid_auto_columns": null,
            "grid_auto_flow": null,
            "grid_auto_rows": null,
            "grid_column": null,
            "grid_gap": null,
            "grid_row": null,
            "grid_template_areas": null,
            "grid_template_columns": null,
            "grid_template_rows": null,
            "height": null,
            "justify_content": null,
            "justify_items": null,
            "left": null,
            "margin": null,
            "max_height": null,
            "max_width": null,
            "min_height": null,
            "min_width": null,
            "object_fit": null,
            "object_position": null,
            "order": null,
            "overflow": null,
            "overflow_x": null,
            "overflow_y": null,
            "padding": null,
            "right": null,
            "top": null,
            "visibility": null,
            "width": null
          }
        },
        "89a349e4f9284413b3bad9afefa03c16": {
          "model_module": "@jupyter-widgets/controls",
          "model_name": "DescriptionStyleModel",
          "model_module_version": "1.5.0",
          "state": {
            "_model_module": "@jupyter-widgets/controls",
            "_model_module_version": "1.5.0",
            "_model_name": "DescriptionStyleModel",
            "_view_count": null,
            "_view_module": "@jupyter-widgets/base",
            "_view_module_version": "1.2.0",
            "_view_name": "StyleView",
            "description_width": ""
          }
        },
        "65dc75076e514b899fae662f14b8aa89": {
          "model_module": "@jupyter-widgets/base",
          "model_name": "LayoutModel",
          "model_module_version": "1.2.0",
          "state": {
            "_model_module": "@jupyter-widgets/base",
            "_model_module_version": "1.2.0",
            "_model_name": "LayoutModel",
            "_view_count": null,
            "_view_module": "@jupyter-widgets/base",
            "_view_module_version": "1.2.0",
            "_view_name": "LayoutView",
            "align_content": null,
            "align_items": null,
            "align_self": null,
            "border": null,
            "bottom": null,
            "display": null,
            "flex": null,
            "flex_flow": null,
            "grid_area": null,
            "grid_auto_columns": null,
            "grid_auto_flow": null,
            "grid_auto_rows": null,
            "grid_column": null,
            "grid_gap": null,
            "grid_row": null,
            "grid_template_areas": null,
            "grid_template_columns": null,
            "grid_template_rows": null,
            "height": null,
            "justify_content": null,
            "justify_items": null,
            "left": null,
            "margin": null,
            "max_height": null,
            "max_width": null,
            "min_height": null,
            "min_width": null,
            "object_fit": null,
            "object_position": null,
            "order": null,
            "overflow": null,
            "overflow_x": null,
            "overflow_y": null,
            "padding": null,
            "right": null,
            "top": null,
            "visibility": null,
            "width": null
          }
        },
        "323db4ba862f41e3be293c0e2fc816c0": {
          "model_module": "@jupyter-widgets/controls",
          "model_name": "ProgressStyleModel",
          "model_module_version": "1.5.0",
          "state": {
            "_model_module": "@jupyter-widgets/controls",
            "_model_module_version": "1.5.0",
            "_model_name": "ProgressStyleModel",
            "_view_count": null,
            "_view_module": "@jupyter-widgets/base",
            "_view_module_version": "1.2.0",
            "_view_name": "StyleView",
            "bar_color": null,
            "description_width": ""
          }
        },
        "b474ff5dc4b749309c8183b173e89810": {
          "model_module": "@jupyter-widgets/base",
          "model_name": "LayoutModel",
          "model_module_version": "1.2.0",
          "state": {
            "_model_module": "@jupyter-widgets/base",
            "_model_module_version": "1.2.0",
            "_model_name": "LayoutModel",
            "_view_count": null,
            "_view_module": "@jupyter-widgets/base",
            "_view_module_version": "1.2.0",
            "_view_name": "LayoutView",
            "align_content": null,
            "align_items": null,
            "align_self": null,
            "border": null,
            "bottom": null,
            "display": null,
            "flex": null,
            "flex_flow": null,
            "grid_area": null,
            "grid_auto_columns": null,
            "grid_auto_flow": null,
            "grid_auto_rows": null,
            "grid_column": null,
            "grid_gap": null,
            "grid_row": null,
            "grid_template_areas": null,
            "grid_template_columns": null,
            "grid_template_rows": null,
            "height": null,
            "justify_content": null,
            "justify_items": null,
            "left": null,
            "margin": null,
            "max_height": null,
            "max_width": null,
            "min_height": null,
            "min_width": null,
            "object_fit": null,
            "object_position": null,
            "order": null,
            "overflow": null,
            "overflow_x": null,
            "overflow_y": null,
            "padding": null,
            "right": null,
            "top": null,
            "visibility": null,
            "width": null
          }
        },
        "067733a927404bf79942a4ee8ff52c31": {
          "model_module": "@jupyter-widgets/controls",
          "model_name": "DescriptionStyleModel",
          "model_module_version": "1.5.0",
          "state": {
            "_model_module": "@jupyter-widgets/controls",
            "_model_module_version": "1.5.0",
            "_model_name": "DescriptionStyleModel",
            "_view_count": null,
            "_view_module": "@jupyter-widgets/base",
            "_view_module_version": "1.2.0",
            "_view_name": "StyleView",
            "description_width": ""
          }
        }
      }
    }
  },
  "cells": [
    {
      "cell_type": "markdown",
      "source": [
        "Counter-Narrative used:In light of the recent claims made by former President Donald Trump, it is essential to examine the veracity of his statements regarding Congolese migration and prisons. Trump's assertion that individuals from the Congo are being released from prisons and then brought to the United States is not substantiated by credible evidence or expert opinion.\n",
        "\n",
        "Experts in the field, including Patrick Muyaya Katembwe, a spokesperson for the Democratic Republic of Congo (DRC), have explicitly denied any such practices, stating that there is \"never ever\" any truth to the claim. Muyaya Katembwe emphasizes the detrimental impact such allegations could have on the country's reputation. Similarly, Serge Mombouli, the ambassador of the Republic of Congo (RoC) to the United States, has also refuted the claim, asserting that \"there is no truth or any sign nor a single fact supporting such a claim or statement.\"\n",
        "\n",
        "Furthermore, an examination of available data and reports from both Congolese and American sources reveals no evidence of systematic practices that would facilitate the alleged transfer of Congolese prisoners to the United States. The Congolese migrants apprehended at the US border are not the result of an organized scheme to empty Congolese prisons but rather a reflection of the complex and multifaceted factors that contribute to migration, including economic hardship, political instability, and humanitarian crises.\n",
        "\n",
        "It is crucial to approach claims of this nature with a critical eye, recognizing the potential harm they can cause to individuals and nations. As such, the claim that the DRC and RoC are orchestrating the release of violent criminals to enter the United States is baseless and lacks credible support from experts and organizations on both sides of the issue."
      ],
      "metadata": {
        "id": "of8mTqAzU6JW"
      }
    },
    {
      "cell_type": "markdown",
      "source": [
        "Summerized Counter-Narrative"
      ],
      "metadata": {
        "id": "BF5IipEqMUmR"
      }
    },
    {
      "cell_type": "code",
      "execution_count": 5,
      "metadata": {
        "colab": {
          "base_uri": "https://localhost:8080/",
          "height": 138,
          "referenced_widgets": [
            "80eaaa8235b644f1874f43340053fd92",
            "a6aeda8fcb3c47afb29f9cb1d21756ee",
            "b125bc84d23a44388a1004c8384718c7",
            "a61d2a671ca740cb8900918de50cd7b4",
            "9a717dc4a05c43cd816270e9310e2e7f",
            "44b6253521e34ec39f242942430896cb",
            "b3d9e446b3af4b028a40f1d9c5908a2f",
            "58664b4a301845dcb558254aba6c98b7",
            "ad50b198e3a94998973bb39c17a81928",
            "ddab409ff6b340bda919d01082c96081",
            "0117c21fac814990bda935ba08b1fadd"
          ]
        },
        "id": "nt-UkjsAJvLE",
        "outputId": "83fedbcb-5f5a-4234-acf7-8929e11604d3"
      },
      "outputs": [
        {
          "output_type": "display_data",
          "data": {
            "text/plain": [
              "Loading checkpoint shards:   0%|          | 0/2 [00:00<?, ?it/s]"
            ],
            "application/vnd.jupyter.widget-view+json": {
              "version_major": 2,
              "version_minor": 0,
              "model_id": "80eaaa8235b644f1874f43340053fd92"
            }
          },
          "metadata": {}
        },
        {
          "output_type": "stream",
          "name": "stderr",
          "text": [
            "Device set to use cpu\n"
          ]
        },
        {
          "name": "stdout",
          "output_type": "stream",
          "text": [
            "Enter the counter-narrative: In light of the recent claims made by former President Donald Trump, it is essential to examine the veracity of his statements regarding Congolese migration and prisons. Trump's assertion that individuals from the Congo are being released from prisons and then brought to the United States is not substantiated by credible evidence or expert opinion.  Experts in the field, including Patrick Muyaya Katembwe, a spokesperson for the Democratic Republic of Congo (DRC), have explicitly denied any such practices, stating that there is \"never ever\" any truth to the claim. Muyaya Katembwe emphasizes the detrimental impact such allegations could have on the country's reputation. Similarly, Serge Mombouli, the ambassador of the Republic of Congo (RoC) to the United States, has also refuted the claim, asserting that \"there is no truth or any sign nor a single fact supporting such a claim or statement.\"  Furthermore, an examination of available data and reports from both Congolese and American sources reveals no evidence of systematic practices that would facilitate the alleged transfer of Congolese prisoners to the United States. The Congolese migrants apprehended at the US border are not the result of an organized scheme to empty Congolese prisons but rather a reflection of the complex and multifaceted factors that contribute to migration, including economic hardship, political instability, and humanitarian crises.  It is crucial to approach claims of this nature with a critical eye, recognizing the potential harm they can cause to individuals and nations. As such, the claim that the DRC and RoC are orchestrating the release of violent criminals to enter the United States is baseless and lacks credible support from experts and organizations on both sides of the issue.\n"
          ]
        },
        {
          "output_type": "stream",
          "name": "stderr",
          "text": [
            "Setting `pad_token_id` to `eos_token_id`:128001 for open-end generation.\n"
          ]
        },
        {
          "output_type": "stream",
          "name": "stdout",
          "text": [
            "Generated Prompt: A young girl stands alone in a desolate, post-apocalyptic landscape. She holds a small, delicate flower in her hand, its petals a vibrant splash of color against the barren, gray terrain. In the background, a massive, twisted tree looms, its branches like withered fingers reaching towards the sky. The girl's eyes are cast downward\n"
          ]
        }
      ],
      "source": [
        "import torch\n",
        "from transformers import pipeline\n",
        "\n",
        "# Initialize the pipeline\n",
        "model_id = \"meta-llama/Llama-3.2-3B-Instruct\"\n",
        "pipe = pipeline(\n",
        "    \"text-generation\",\n",
        "    model=model_id,\n",
        "    torch_dtype=torch.bfloat16,\n",
        "    device_map=\"auto\",\n",
        ")\n",
        "\n",
        "def generate_prompt(counter_narrative):\n",
        "    # Construct the messages for the model\n",
        "    messages = [\n",
        "        {\n",
        "            \"role\": \"system\",\n",
        "            \"content\": (\n",
        "                \"\"\"\n",
        "                You are an expert at crafting vivid, visually detailed descriptions that can inspire image generation.\n",
        "                Your task is to create a concise scene (within 70 tokens) that visually represents the counter-narrative:\n",
        "                '{counter_narrative}'. Focus on the main context of the image ,depict the essence and meaning of the counter-narrative.\n",
        "                 Avoid including text-based elements or abstract ideas.\n",
        "                \"\"\"\n",
        "            ).strip()\n",
        "        }\n",
        "    ]\n",
        "\n",
        "    # Generate the prompt using the pipeline\n",
        "    outputs = pipe(\n",
        "        messages,\n",
        "        max_new_tokens=70,\n",
        "        return_full_text=False,\n",
        "    )\n",
        "\n",
        "    # Extract and return the generated text\n",
        "    return outputs[0][\"generated_text\"]\n",
        "\n",
        "# Take counter-narrative input from the user\n",
        "counter_narrative = input(\"Enter the counter-narrative: \")\n",
        "\n",
        "# Generate a prompt for Stable Diffusion\n",
        "prompt = generate_prompt(counter_narrative)\n",
        "print(\"Generated Prompt:\", prompt)"
      ]
    },
    {
      "cell_type": "markdown",
      "source": [
        "Title"
      ],
      "metadata": {
        "id": "jihVREfpKK1i"
      }
    },
    {
      "cell_type": "code",
      "source": [
        "import torch\n",
        "from transformers import pipeline\n",
        "\n",
        "# Initialize the pipeline\n",
        "model_id = \"meta-llama/Llama-3.2-3B-Instruct\"\n",
        "pipe = pipeline(\n",
        "    \"text-generation\",\n",
        "    model=model_id,\n",
        "    torch_dtype=torch.bfloat16,\n",
        "    device_map=\"auto\",\n",
        ")\n",
        "\n",
        "# Take counter-narrative input from the user\n",
        "counter_narrative = input(\"Enter the counter-narrative: \")\n",
        "\n",
        "# Construct the messages for the pipeline\n",
        "messages = [\n",
        "    {\n",
        "        \"role\": \"system\",\n",
        "        \"content\": \"Extract the main topic or title from the counter-narrative provided. The output should be a concise and clear prompt representing the core subject of the counter-narrative for image generation.\"\n",
        "    },\n",
        "    {\n",
        "        \"role\": \"user\",\n",
        "        \"content\": f\"\"\"Analyze the following counter-narrative and extract its main topic:\n",
        "\n",
        "Counter-Narrative: {counter_narrative}\n",
        "\n",
        "Provide only the topic or title as the output.\"\"\"\n",
        "    }\n",
        "]\n",
        "\n",
        "# Generate output from the pipeline\n",
        "outputs = pipe(\n",
        "    messages,\n",
        "    max_new_tokens=10,\n",
        "    do_sample=False,\n",
        "    temperature=0.7,\n",
        "    return_full_text=False\n",
        ")\n",
        "\n",
        "# Print the generated topic/title\n",
        "print(\"Generated Topic/Title:\", outputs[0][\"generated_text\"])"
      ],
      "metadata": {
        "colab": {
          "base_uri": "https://localhost:8080/",
          "height": 208,
          "referenced_widgets": [
            "39b40aa348ef4fb995b71e9d226aaf06",
            "ae01d51c48394c0e8c5236ce6a619714",
            "f7dd278b2e2144b0a0cd2c6e20f97920",
            "0b7e1c6fc35a4d898483b76b34e5ff86",
            "d503130b6e5d480f8db660270c10a21c",
            "fd9d5784d480426fab70ea5dd26cc31d",
            "81b53b93f16a47aaa19a73eb10767e4f",
            "7a8a18220a064f7a8c625dde071d9c39",
            "392f52c92f28440badfe0b4c071b3ca3",
            "9d164896e9654140b598657c3e304c2a",
            "7fc3c70543be461da5e771da5ff5745a"
          ]
        },
        "id": "MrpOQOB5KOd6",
        "outputId": "09084061-a580-4f6c-f241-99958dec5bf2"
      },
      "execution_count": 6,
      "outputs": [
        {
          "output_type": "display_data",
          "data": {
            "text/plain": [
              "Loading checkpoint shards:   0%|          | 0/2 [00:00<?, ?it/s]"
            ],
            "application/vnd.jupyter.widget-view+json": {
              "version_major": 2,
              "version_minor": 0,
              "model_id": "39b40aa348ef4fb995b71e9d226aaf06"
            }
          },
          "metadata": {}
        },
        {
          "output_type": "stream",
          "name": "stderr",
          "text": [
            "Device set to use cpu\n"
          ]
        },
        {
          "name": "stdout",
          "output_type": "stream",
          "text": [
            "Enter the counter-narrative: In light of the recent claims made by former President Donald Trump, it is essential to examine the veracity of his statements regarding Congolese migration and prisons. Trump's assertion that individuals from the Congo are being released from prisons and then brought to the United States is not substantiated by credible evidence or expert opinion.  Experts in the field, including Patrick Muyaya Katembwe, a spokesperson for the Democratic Republic of Congo (DRC), have explicitly denied any such practices, stating that there is \"never ever\" any truth to the claim. Muyaya Katembwe emphasizes the detrimental impact such allegations could have on the country's reputation. Similarly, Serge Mombouli, the ambassador of the Republic of Congo (RoC) to the United States, has also refuted the claim, asserting that \"there is no truth or any sign nor a single fact supporting such a claim or statement.\"  Furthermore, an examination of available data and reports from both Congolese and American sources reveals no evidence of systematic practices that would facilitate the alleged transfer of Congolese prisoners to the United States. The Congolese migrants apprehended at the US border are not the result of an organized scheme to empty Congolese prisons but rather a reflection of the complex and multifaceted factors that contribute to migration, including economic hardship, political instability, and humanitarian crises.  It is crucial to approach claims of this nature with a critical eye, recognizing the potential harm they can cause to individuals and nations. As such, the claim that the DRC and RoC are orchestrating the release of violent criminals to enter the United States is baseless and lacks credible support from experts and organizations on both sides of the issue.\n"
          ]
        },
        {
          "output_type": "stream",
          "name": "stderr",
          "text": [
            "/usr/local/lib/python3.10/dist-packages/transformers/generation/configuration_utils.py:628: UserWarning: `do_sample` is set to `False`. However, `temperature` is set to `0.7` -- this flag is only used in sample-based generation modes. You should set `do_sample=True` or unset `temperature`.\n",
            "  warnings.warn(\n",
            "/usr/local/lib/python3.10/dist-packages/transformers/generation/configuration_utils.py:633: UserWarning: `do_sample` is set to `False`. However, `top_p` is set to `0.9` -- this flag is only used in sample-based generation modes. You should set `do_sample=True` or unset `top_p`.\n",
            "  warnings.warn(\n",
            "Setting `pad_token_id` to `eos_token_id`:128001 for open-end generation.\n"
          ]
        },
        {
          "output_type": "stream",
          "name": "stdout",
          "text": [
            "Generated Topic/Title: Verification of Trump's Claims on Congolese Migration\n"
          ]
        }
      ]
    },
    {
      "cell_type": "markdown",
      "source": [
        "Title+description"
      ],
      "metadata": {
        "id": "je3pplOkJ8Sx"
      }
    },
    {
      "cell_type": "code",
      "source": [
        "import torch\n",
        "from transformers import pipeline\n",
        "\n",
        "# Initialize the pipeline\n",
        "model_id = \"meta-llama/Llama-3.2-3B-Instruct\"\n",
        "pipe = pipeline(\n",
        "    \"text-generation\",\n",
        "    model=model_id,\n",
        "    torch_dtype=torch.bfloat16,\n",
        "    device_map=\"auto\",\n",
        ")\n",
        "\n",
        "# Take counter-narrative input from the user\n",
        "counter_narrative = input(\"Enter the counter-narrative: \")\n",
        "\n",
        "# Construct the messages for the pipeline\n",
        "messages = [\n",
        "    {\n",
        "        \"role\": \"system\",\n",
        "        \"content\": \"Extract the main topic or title and provide a concise description from the counter-narrative provided. The output should be a clear and vivid prompt representing the counter-narrative for image generation. Ensure the prompt is completed within 70 tokens.\"\n",
        "    },\n",
        "    {\n",
        "        \"role\": \"user\",\n",
        "        \"content\": f\"\"\"Analyze the following counter-narrative and extract its main topic and a brief description:\n",
        "\n",
        "Counter-Narrative: {counter_narrative}\n",
        "\n",
        "Provide a prompt containing the title and a brief description in 70 tokens or less.\"\"\"\n",
        "    }\n",
        "]\n",
        "\n",
        "# Generate output from the pipeline\n",
        "outputs = pipe(\n",
        "    messages,\n",
        "    max_new_tokens=70,\n",
        "    do_sample=False,\n",
        "    temperature=0.7,\n",
        "    return_full_text=False\n",
        ")\n",
        "\n",
        "# Print the generated prompt\n",
        "print(\"Generated Prompt:\", outputs[0][\"generated_text\"])"
      ],
      "metadata": {
        "colab": {
          "base_uri": "https://localhost:8080/",
          "height": 173,
          "referenced_widgets": [
            "ef7ed01e0447429c851e5444d28cb4e8",
            "15bc629786ad44aa94cfa5dd4df5c4b4",
            "3d5bf70d893c431aa74cd7d5f1e05f9b",
            "62a7751fa63541598728a8958ab89b18",
            "93d333aa631e4db6808c869bc907e060",
            "24d042a5690e4840838b91d649e8a8a4",
            "89a349e4f9284413b3bad9afefa03c16",
            "65dc75076e514b899fae662f14b8aa89",
            "323db4ba862f41e3be293c0e2fc816c0",
            "b474ff5dc4b749309c8183b173e89810",
            "067733a927404bf79942a4ee8ff52c31"
          ]
        },
        "id": "O2T4v0bdKCiU",
        "outputId": "500f9129-c7a4-4eb6-a0ab-75d2061e3809"
      },
      "execution_count": 7,
      "outputs": [
        {
          "output_type": "display_data",
          "data": {
            "text/plain": [
              "Loading checkpoint shards:   0%|          | 0/2 [00:00<?, ?it/s]"
            ],
            "application/vnd.jupyter.widget-view+json": {
              "version_major": 2,
              "version_minor": 0,
              "model_id": "ef7ed01e0447429c851e5444d28cb4e8"
            }
          },
          "metadata": {}
        },
        {
          "output_type": "stream",
          "name": "stderr",
          "text": [
            "Device set to use cpu\n"
          ]
        },
        {
          "name": "stdout",
          "output_type": "stream",
          "text": [
            "Enter the counter-narrative: In light of the recent claims made by former President Donald Trump, it is essential to examine the veracity of his statements regarding Congolese migration and prisons. Trump's assertion that individuals from the Congo are being released from prisons and then brought to the United States is not substantiated by credible evidence or expert opinion.  Experts in the field, including Patrick Muyaya Katembwe, a spokesperson for the Democratic Republic of Congo (DRC), have explicitly denied any such practices, stating that there is \"never ever\" any truth to the claim. Muyaya Katembwe emphasizes the detrimental impact such allegations could have on the country's reputation. Similarly, Serge Mombouli, the ambassador of the Republic of Congo (RoC) to the United States, has also refuted the claim, asserting that \"there is no truth or any sign nor a single fact supporting such a claim or statement.\"  Furthermore, an examination of available data and reports from both Congolese and American sources reveals no evidence of systematic practices that would facilitate the alleged transfer of Congolese prisoners to the United States. The Congolese migrants apprehended at the US border are not the result of an organized scheme to empty Congolese prisons but rather a reflection of the complex and multifaceted factors that contribute to migration, including economic hardship, political instability, and humanitarian crises.  It is crucial to approach claims of this nature with a critical eye, recognizing the potential harm they can cause to individuals and nations. As such, the claim that the DRC and RoC are orchestrating the release of violent criminals to enter the United States is baseless and lacks credible support from experts and organizations on both sides of the issue.\n"
          ]
        },
        {
          "output_type": "stream",
          "name": "stderr",
          "text": [
            "Setting `pad_token_id` to `eos_token_id`:128001 for open-end generation.\n"
          ]
        },
        {
          "output_type": "stream",
          "name": "stdout",
          "text": [
            "Generated Prompt: Here's a concise prompt for image generation based on the counter-narrative:\n",
            "\n",
            "\"Counter-narrative: Debunking the myth of Congolese prison releases to the US. A spokesperson for the DRC and the RoC ambassador refute claims of a systematic transfer of prisoners. Experts emphasize the detrimental impact on the country's reputation. The Cong\n"
          ]
        }
      ]
    }
  ]
}