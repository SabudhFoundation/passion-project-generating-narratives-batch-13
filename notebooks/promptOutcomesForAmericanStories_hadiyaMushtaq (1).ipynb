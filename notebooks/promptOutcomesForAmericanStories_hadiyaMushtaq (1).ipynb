{
  "nbformat": 4,
  "nbformat_minor": 0,
  "metadata": {
    "colab": {
      "provenance": [],
      "gpuType": "T4"
    },
    "kernelspec": {
      "name": "python3",
      "display_name": "Python 3"
    },
    "language_info": {
      "name": "python"
    },
    "accelerator": "GPU"
  },
  "cells": [
    {
      "cell_type": "markdown",
      "source": [
        "**IMPLEMENTATION OF BEST WORKING PROMPT FOR GENERATING COUNTER NARRATIVE BASED STORIES FROM GIVEN CLAIM - FACT PAIRS USING PHI3 MODEL**\n",
        "\n",
        "\n",
        "\n"
      ],
      "metadata": {
        "id": "phQ1AWPRjsp-"
      }
    },
    {
      "cell_type": "markdown",
      "source": [
        "\n",
        "\n",
        "*   MODEL NAME : microsoft/Phi-3-mini-128k-instruct\n",
        "*   LINK: https://huggingface.co/microsoft/Phi-3-mini-128k-instruct\n",
        "\n"
      ],
      "metadata": {
        "id": "3NgRJYLjxORB"
      }
    },
    {
      "cell_type": "code",
      "source": [
        "import torch\n",
        "from transformers import AutoModelForCausalLM, AutoTokenizer, pipeline\n",
        "import pandas as pd\n",
        "\n",
        "# Setting the path to CSV file\n",
        "csv_path = \"/content/Copy of Prompt outcomes for America Election Stories - Sheet1.csv\"\n",
        "# Loading the model and tokenizer\n",
        "torch.random.manual_seed(0)\n",
        "model = AutoModelForCausalLM.from_pretrained(\n",
        "    \"microsoft/Phi-3-mini-128k-instruct\",\n",
        "    device_map=\"cuda\",\n",
        "    torch_dtype=\"auto\",\n",
        "    trust_remote_code=True,\n",
        ")\n",
        "\n",
        "tokenizer = AutoTokenizer.from_pretrained(\"microsoft/Phi-3-mini-128k-instruct\")\n",
        "\n",
        "# Initializing the text generation pipeline\n",
        "pipe = pipeline(\n",
        "    \"text-generation\",\n",
        "    model=model,\n",
        "    tokenizer=tokenizer,\n",
        ")\n",
        "\n",
        "# Setting generation arguments\n",
        "generation_args = {\n",
        "    \"max_new_tokens\": 2000,\n",
        "    \"return_full_text\": False,\n",
        "    \"temperature\": 0.7,         # to not let model hallucinate too much\n",
        "    \"do_sample\": False,\n",
        "}\n",
        "\n",
        "# Loading the CSV file\n",
        "data = pd.read_csv(csv_path)\n",
        "\n",
        "# Iterating over each row in the CSV and process claims and facts\n",
        "for index, row in data.iterrows():\n",
        "    claim = row['Claim']\n",
        "    facts = row['Fact']\n",
        "\n",
        "    # Generating the prompt for the current claim and facts\n",
        "    prompt = f\"\"\"<|system|>\n",
        "You are a persuasive and factually accurate story-generating assistant with a journalistic rigor.\n",
        "<|end|>\n",
        "<|user|>\n",
        "Given a claim and corresponding facts, generate a summarized well-structured story that meets the following criteria:\n",
        "\n",
        "- Refute the claim using every provided fact, along with additional context from historically accurate trends and statistics.\n",
        "- Limit the response to a maximum of 250 words.\n",
        "- Use a strongly critical tone, directly highlighting the flaws in the claim and emphasizing its misleading nature.\n",
        "- Include relevant background information, citing historically significant economic events or definitions (e.g., major inflation periods or economic milestones\n",
        "- When writing about public figures, always use their correct title based on their current or former status:\n",
        "     Example: Use “former President” for Donald Trump, who no longer holds office, and “President” for Joe Biden, who is currently in office.\n",
        "     Similarly, for any retired officials, use titles like “former” or “ex-” as appropriate.\n",
        "- The narrative-based summarized story should be coherent and persuasive, leaving no room for doubt about the validity of the refutation.\n",
        "- The summarized story must follow a clear 3-paragraph structure:\n",
        "\n",
        "  Paragraph1- Begin with historical background or context around the event or term in question.\n",
        "  Paragraph2- Progress to opposing the claim in a detailed manner, referencing the provided facts and relevant historical events to refute it.\n",
        "  Paragraph3- Conclude with a strong, fact-based analysis that highlights the flaws in the claim and clarifies the reality of inflation trends.\n",
        "\n",
        "Claim: {claim}\n",
        "Facts: {facts}\n",
        "\n",
        "<|end|>\n",
        "<|assistant|>\n",
        "\"\"\"\n",
        "\n",
        "    # Generate the counter-narrative\n",
        "    output = pipe(prompt, **generation_args)\n",
        "    print(f\"Counter-narrative for claim {index + 1}:\\n\", output[0]['generated_text'])\n",
        "    print(\"\\n\" + \"=\"*80 + \"\\n\")\n"
      ],
      "metadata": {
        "colab": {
          "base_uri": "https://localhost:8080/",
          "height": 1000,
          "referenced_widgets": [
            "109730db30724fa5ac5ebc0a8e7ef304",
            "010e85df4f854c0fb418f3beef31a58b",
            "33023dfb5685472a8ffeaea532db5634",
            "10d980ebf33f4d46b95100ddd0349954",
            "6f468b43e3a64fb2a85b0cef26847ea2",
            "7dd0ce1fdcb945f2a86bf874dc36a8cf",
            "8282cc183e6f49a982d80ef0fa7460b5",
            "7492d549ee5447f79c1857ed8a2dbf1d",
            "ae3a63f5bdd14fe1b1eb31bb14d5b973",
            "0fe12acc1d134750a56285892418e96c",
            "4aa5ceef929b477098594bc5f716c023",
            "45ed48588091473a90c40b359ec4ef68",
            "d36e9388271e4bc3addd9d97355b5bd6",
            "131daff9a9d0400dbf0b7cae9e603272",
            "0024197b0f7942ff8c869277581d99c6",
            "2036dce9003f487c943d8533c52ed94a",
            "9dcdd3abc4ad4610bf99198c7907b277",
            "d1cfcd08bbc3478e8b23812b07d0fd2a",
            "8c9042e91aeb4656864af335b7cfcb9b",
            "282ec05d0e324ac0aeb7797131a22f04",
            "d1ef8e85c6d94346aee7c322f4bac763",
            "fea1d9f615774ee4800a2b30529f0f45",
            "1fc8c9d4cbad4576bb1d2364d099c1be",
            "11401cc51aff40b795f4c87bac964f1f",
            "17321ebeeca64acd9fa62c3c3b13b894",
            "af52e9761b3b47eeaf9dec422c7b8e2e",
            "4e5a0b6cc1b24419ad41e9ef48f40ddc",
            "bc23fbb2f5854e2dbb0643f7639a8591",
            "df4e7f905d654524849016c0044eecc7",
            "c89dd85a6e7d49aa97b50b19a6eef6f9",
            "ee66c47cb0914413a99b0b9d76058cce",
            "9eb82bc13da842898ed1a404236b9923",
            "27497a5b452d43ef97196641c9e1f67a",
            "17adcaa8d35943b4b9e009eb6557ac0b",
            "5bf3744dc5fe4f76bd98def0a02b0036",
            "6bf23701548940fcb7d1eee78839c6aa",
            "4f41a79949a246b2b9f5d8615543dcb7",
            "4fe5fb62c3124fd4b0e9b0192cc1020c",
            "1cd28d97ba04486083cdce9e6a136910",
            "aac959186bd647a0ae196fa39ea56d07",
            "9ed5fee88fc849fa9e19e8184cdd9f7b",
            "fb7a1d7cd8954edca8b39e01e353712b",
            "19aa87bf72b74831b853285a01faf75a",
            "1e281b2e68c340698229e24821996be4",
            "b15eb927dae14362a5111072aab500cd",
            "5c38358328214c51a04b9cc736c814bf",
            "aaef16cd896d4a459589e76ff656196f",
            "9dc7f31dbe2b410cb18704af4a82b4e2",
            "3c1a8a08788a438a82aac6565b2871b8",
            "7dd58723932b4c41af44b6b0590abf2b",
            "d55f124ad38b45fb865e7ace4d556e46",
            "c9019825e33d47a6a945670fa6592bf6",
            "8a340fac5cdb40cc91cf4a9f7cd7beda",
            "f00c7b1b6f0a4a80b75c6fbb0a282fd6",
            "70ef98cc5fd54f95b3b14b01a984dc07",
            "027db60fbe2846ea8717068cc9140a82",
            "333286613b334d0da2d3150286da43e1",
            "73008255cd5a48a2b7a62c66b708164a",
            "4fe4dbeb0c65423d8c16a4c9f08d7723",
            "1f93640c7b3c4f0292238b3047134a3f",
            "d803da4027c940d187565e97f1ee6156",
            "10ebf553fa824c2e9e6c0f008bc061ea",
            "34f7d471f0b14907ba2534c8c5a5b5f5",
            "bb10227ec6b64e759a89e37d0e791a6b",
            "c2eea9cd17f24bee8d09dba795834f5e",
            "2e145b956b4845f78e106f6be05b85d4",
            "9d07e0afe6f74862bd4c6ae64c7b44c3",
            "37da17a9ec6f47a68797e1d5747f0e49",
            "a32e09d4a3a0452aa390ab7efd79b0e1",
            "1474c9ce289046a080de56c092d823ec",
            "b795ed496c334157aa22c3c6b144399f",
            "50a319fbfe4548ea8146cb7f57d4e8a7",
            "79c767734ba84684a18d13a58352721e",
            "85d27dc74f984e1cb20de57beb468218",
            "4bd871982f7d4581a508725e247fef8e",
            "0b4fedee7e6c4e828ad141bc81dda50d",
            "7cbe718b77d2484fad75f31818ddcca9",
            "7deebee72eba45b0a0a76204adcf1f6a",
            "091d33b4cefe465d915fb6068b1e1753",
            "f1c0e57cf2dc45bca95834c13200befe",
            "10f6bb5857204761a53684e74e28eab2",
            "3dbb76605595406396675d218b860de2",
            "e7c68d783c5b41e9b12418764a97cde1",
            "c8f5e945f8dc49deabd2945acfa91352",
            "0542ddead3744b0cba697f6262b1cd37",
            "fd03c256f18c49588f16fe002e0862ae",
            "987c50c3389c49bb85eb0458500b51a2",
            "3d2df68b85bc49418a1234438478332f",
            "4f6fcea638a4424baef654b0d23b2546",
            "7ed111c888a4483e80e15f0e031f7bf6",
            "329fef32432547139fcd5e3c2363dd5d",
            "240b70a68ace4bb081489182607b2e0d",
            "a8ce2bc8145943e39cc5a718a22deebc",
            "2f07795736664ba29345b3b72ef6b99b",
            "6094ede25af34faeb9e5d31315990fda",
            "04e6008f2bc243c1995ddc59bc682424",
            "20c479069fd54a829665075b81a1611b",
            "46b96432e651448faaa4e79df223d0d8",
            "3b8583fc24f14338a5dd6db984da6fb8",
            "a837f82dac3241a299a958e675b88434",
            "ce138b1f668c49a89ce8da3abdd1ce9c",
            "22280e28d76542f5abb5330f82d211e1",
            "fd51dba487d0411b9eaa561af5c4537f",
            "1d455de7e8214a749d884efca9f945e2",
            "b58c90b875094b248a50c362934ab9f0",
            "35ac12594a17404d93d0e49f6ceaedb6",
            "b2153f437bea49a2871f07226ba6044e",
            "08320072aeee40759e2bdbba871e0792",
            "05c16714169945deb46b2c462cd05c5b",
            "7f6a7c1fa5d44a7896a8b33894a2d0da",
            "80e08fc23a784e65806a92d85084364d",
            "73fd641f88004008a39f855eda0dd597",
            "56d29ed92f9a43b1a19cf53ab55ce926",
            "6ccd548c039948329b68baca0f5729ef",
            "fbb3b16c341f40d581a38b23a0c18f88",
            "80320e3fa53c4081a2661fa56b539be6",
            "6f8f22e9d0524444adc93fe37c657a21",
            "c129551c5d6145c295bedcc4ae472abe",
            "3f5dabdb4cb44e76ad8ceb140eaa5098",
            "7c5cf8487e154aa3ba02bea7718099d5",
            "ad7392a281584d5d880036345d7f7eee",
            "f340f095c41f4616a65209ec74eebf14",
            "2091d8d5d7a54f5e94a9bfad0cce922a",
            "f93dd1a2847b436f87495b9e19563f0d",
            "a132519fd4064c81b50e06b60a1a1324",
            "1d3dc655a0f7401fafb7eaff867bced0",
            "a48686535c314d82a653a9336d9024d9",
            "c0c3b4f43a654fdeb024e41f5cf9b582",
            "c41d64f0e92c487ba35388aaca086ff1",
            "3b30549debf349ccb5dc98224be08025",
            "7bf4220fbe45405eb614c2496c469ebc",
            "94cb9f0c7ee74964bc009284adaca34b",
            "df99ae989afe4a07acb09bb5a0c500b3",
            "b054fe38bd8046b48bc9c2f29b30becf",
            "3611e51a4eab42a7abf884f95ca6ef6f",
            "bfba74655f2a4c058276fbb98c9d12e7",
            "7d08c32a12cf42b18c8b76504ffce8f7",
            "38f13b181ee44e63b56453fdae3bec39",
            "3d3eea3291bc4401850d062a13129790",
            "a98003f7ed814d4a9b8f9bf709e46617",
            "23112491c7b64f8990714b1dff680bfc",
            "900613054db94641b423a0b336834111",
            "60c65d87145341749c5e6fd684d0eb4a",
            "f3646430cbae4a0593228bc0a8853cf7",
            "068a9292cfec4b62b19bf6d43ab16d7e",
            "7db404f85c474eb8b956dff39d00e64c",
            "d07f76f673d34a468bad65de727a960e",
            "cd489ebccdb04eeabdc82fd06bb93462",
            "d22fba2d6cfb426cace58be7c7af59bf",
            "efe859d6a33548e68c73d248ca23491f",
            "9adb6490ec7c4353bff5d41c59f722c9",
            "0e561481f515440e8ac4f26bd7c72339",
            "dc164ba673b2465a8ec92a3cf3c6a3e2",
            "f58173ff78f0465499f404e760715b4d"
          ]
        },
        "id": "CVINszLhdGnE",
        "outputId": "598c8f3f-d57c-40b9-faaf-a93056e32e67"
      },
      "execution_count": null,
      "outputs": [
        {
          "output_type": "stream",
          "name": "stderr",
          "text": [
            "/usr/local/lib/python3.10/dist-packages/huggingface_hub/utils/_auth.py:94: UserWarning: \n",
            "The secret `HF_TOKEN` does not exist in your Colab secrets.\n",
            "To authenticate with the Hugging Face Hub, create a token in your settings tab (https://huggingface.co/settings/tokens), set it as secret in your Google Colab and restart your session.\n",
            "You will be able to reuse this secret in all of your notebooks.\n",
            "Please note that authentication is recommended but still optional to access public models or datasets.\n",
            "  warnings.warn(\n"
          ]
        },
        {
          "output_type": "display_data",
          "data": {
            "text/plain": [
              "config.json:   0%|          | 0.00/3.48k [00:00<?, ?B/s]"
            ],
            "application/vnd.jupyter.widget-view+json": {
              "version_major": 2,
              "version_minor": 0,
              "model_id": "109730db30724fa5ac5ebc0a8e7ef304"
            }
          },
          "metadata": {}
        },
        {
          "output_type": "display_data",
          "data": {
            "text/plain": [
              "configuration_phi3.py:   0%|          | 0.00/11.2k [00:00<?, ?B/s]"
            ],
            "application/vnd.jupyter.widget-view+json": {
              "version_major": 2,
              "version_minor": 0,
              "model_id": "45ed48588091473a90c40b359ec4ef68"
            }
          },
          "metadata": {}
        },
        {
          "output_type": "stream",
          "name": "stderr",
          "text": [
            "A new version of the following files was downloaded from https://huggingface.co/microsoft/Phi-3-mini-128k-instruct:\n",
            "- configuration_phi3.py\n",
            ". Make sure to double-check they do not contain any added malicious code. To avoid downloading new versions of the code file, you can pin a revision.\n"
          ]
        },
        {
          "output_type": "display_data",
          "data": {
            "text/plain": [
              "modeling_phi3.py:   0%|          | 0.00/73.2k [00:00<?, ?B/s]"
            ],
            "application/vnd.jupyter.widget-view+json": {
              "version_major": 2,
              "version_minor": 0,
              "model_id": "1fc8c9d4cbad4576bb1d2364d099c1be"
            }
          },
          "metadata": {}
        },
        {
          "output_type": "stream",
          "name": "stderr",
          "text": [
            "A new version of the following files was downloaded from https://huggingface.co/microsoft/Phi-3-mini-128k-instruct:\n",
            "- modeling_phi3.py\n",
            ". Make sure to double-check they do not contain any added malicious code. To avoid downloading new versions of the code file, you can pin a revision.\n",
            "WARNING:transformers_modules.microsoft.Phi-3-mini-128k-instruct.a90b62ae09941edff87a90ced39ba5807e6b2ade.modeling_phi3:`flash-attention` package not found, consider installing for better performance: No module named 'flash_attn'.\n",
            "WARNING:transformers_modules.microsoft.Phi-3-mini-128k-instruct.a90b62ae09941edff87a90ced39ba5807e6b2ade.modeling_phi3:Current `flash-attention` does not support `window_size`. Either upgrade or use `attn_implementation='eager'`.\n"
          ]
        },
        {
          "output_type": "display_data",
          "data": {
            "text/plain": [
              "model.safetensors.index.json:   0%|          | 0.00/16.3k [00:00<?, ?B/s]"
            ],
            "application/vnd.jupyter.widget-view+json": {
              "version_major": 2,
              "version_minor": 0,
              "model_id": "17adcaa8d35943b4b9e009eb6557ac0b"
            }
          },
          "metadata": {}
        },
        {
          "output_type": "display_data",
          "data": {
            "text/plain": [
              "Downloading shards:   0%|          | 0/2 [00:00<?, ?it/s]"
            ],
            "application/vnd.jupyter.widget-view+json": {
              "version_major": 2,
              "version_minor": 0,
              "model_id": "b15eb927dae14362a5111072aab500cd"
            }
          },
          "metadata": {}
        },
        {
          "output_type": "display_data",
          "data": {
            "text/plain": [
              "model-00001-of-00002.safetensors:   0%|          | 0.00/4.97G [00:00<?, ?B/s]"
            ],
            "application/vnd.jupyter.widget-view+json": {
              "version_major": 2,
              "version_minor": 0,
              "model_id": "027db60fbe2846ea8717068cc9140a82"
            }
          },
          "metadata": {}
        },
        {
          "output_type": "display_data",
          "data": {
            "text/plain": [
              "model-00002-of-00002.safetensors:   0%|          | 0.00/2.67G [00:00<?, ?B/s]"
            ],
            "application/vnd.jupyter.widget-view+json": {
              "version_major": 2,
              "version_minor": 0,
              "model_id": "9d07e0afe6f74862bd4c6ae64c7b44c3"
            }
          },
          "metadata": {}
        },
        {
          "output_type": "display_data",
          "data": {
            "text/plain": [
              "Loading checkpoint shards:   0%|          | 0/2 [00:00<?, ?it/s]"
            ],
            "application/vnd.jupyter.widget-view+json": {
              "version_major": 2,
              "version_minor": 0,
              "model_id": "7deebee72eba45b0a0a76204adcf1f6a"
            }
          },
          "metadata": {}
        },
        {
          "output_type": "display_data",
          "data": {
            "text/plain": [
              "generation_config.json:   0%|          | 0.00/181 [00:00<?, ?B/s]"
            ],
            "application/vnd.jupyter.widget-view+json": {
              "version_major": 2,
              "version_minor": 0,
              "model_id": "4f6fcea638a4424baef654b0d23b2546"
            }
          },
          "metadata": {}
        },
        {
          "output_type": "display_data",
          "data": {
            "text/plain": [
              "tokenizer_config.json:   0%|          | 0.00/3.44k [00:00<?, ?B/s]"
            ],
            "application/vnd.jupyter.widget-view+json": {
              "version_major": 2,
              "version_minor": 0,
              "model_id": "a837f82dac3241a299a958e675b88434"
            }
          },
          "metadata": {}
        },
        {
          "output_type": "display_data",
          "data": {
            "text/plain": [
              "tokenizer.model:   0%|          | 0.00/500k [00:00<?, ?B/s]"
            ],
            "application/vnd.jupyter.widget-view+json": {
              "version_major": 2,
              "version_minor": 0,
              "model_id": "80e08fc23a784e65806a92d85084364d"
            }
          },
          "metadata": {}
        },
        {
          "output_type": "display_data",
          "data": {
            "text/plain": [
              "tokenizer.json:   0%|          | 0.00/1.94M [00:00<?, ?B/s]"
            ],
            "application/vnd.jupyter.widget-view+json": {
              "version_major": 2,
              "version_minor": 0,
              "model_id": "f340f095c41f4616a65209ec74eebf14"
            }
          },
          "metadata": {}
        },
        {
          "output_type": "display_data",
          "data": {
            "text/plain": [
              "added_tokens.json:   0%|          | 0.00/306 [00:00<?, ?B/s]"
            ],
            "application/vnd.jupyter.widget-view+json": {
              "version_major": 2,
              "version_minor": 0,
              "model_id": "df99ae989afe4a07acb09bb5a0c500b3"
            }
          },
          "metadata": {}
        },
        {
          "output_type": "display_data",
          "data": {
            "text/plain": [
              "special_tokens_map.json:   0%|          | 0.00/599 [00:00<?, ?B/s]"
            ],
            "application/vnd.jupyter.widget-view+json": {
              "version_major": 2,
              "version_minor": 0,
              "model_id": "f3646430cbae4a0593228bc0a8853cf7"
            }
          },
          "metadata": {}
        },
        {
          "output_type": "stream",
          "name": "stderr",
          "text": [
            "/usr/local/lib/python3.10/dist-packages/transformers/generation/configuration_utils.py:590: UserWarning: `do_sample` is set to `False`. However, `temperature` is set to `0.7` -- this flag is only used in sample-based generation modes. You should set `do_sample=True` or unset `temperature`.\n",
            "  warnings.warn(\n",
            "The `seen_tokens` attribute is deprecated and will be removed in v4.41. Use the `cache_position` model input instead.\n",
            "`get_max_cache()` is deprecated for all Cache classes. Use `get_max_cache_shape()` instead. Calling `get_max_cache()` will raise error from v4.48\n",
            "WARNING:transformers_modules.microsoft.Phi-3-mini-128k-instruct.a90b62ae09941edff87a90ced39ba5807e6b2ade.modeling_phi3:You are not running the flash-attention implementation, expect numerical differences.\n"
          ]
        },
        {
          "output_type": "stream",
          "name": "stdout",
          "text": [
            "Counter-narrative for claim 1:\n",
            "  In the wake of the 2008 financial crisis, the United States has witnessed a rollercoaster of economic fluctuations, with inflation rates that have both soared and subsided. The claim by former President Trump, who stated that the inflation rate was the worst in 100 years, is a misleading assertion that fails to align with historical data and economic trends.\n",
            "\n",
            "\n",
            "Contrary to Trump's assertion, the highest inflation rate recorded during the Biden presidency was 9.1% in June 2022, a figure that pales in comparison to the inflation rates of the early 1980s. This peak, while significant, occurred over 40 to 41 years ago, far from the \"100 years\" Trump referenced. Moreover, the inflation rate has since shown a marked decline, with the July 2024 rate at 3.2%, a figure that not only surpasses the Biden era's peak but also echoes rates seen in 2011.\n",
            "\n",
            "\n",
            "The flawed nature of Trump's claim is evident when examining the historical context and current economic indicators. Inflation rates have varied over the decades, influenced by numerous factors such as monetary policy, global events, and market dynamics. The assertion that the current inflation rate is the worst in a century is not only factually incorrect but also disregards the complexities of economic trends. The reality is that while inflation has been a concern, it has not reached the extremes Trump suggested, and the economy has shown resilience and adaptability in the face of challenges.\n",
            "\n",
            "================================================================================\n",
            "\n",
            "Counter-narrative for claim 2:\n",
            "  In the wake of President Trump's controversial remarks about the US military's financial contributions to Afghanistan, it's crucial to dissect the historical context and facts surrounding the US-Afghan military relationship. Since 2005, the US has invested approximately $18.6 billion in military equipment for Afghan forces, a figure that Trump misleadingly inflated to $85 billion. This misrepresentation overlooks the Defense Department's estimate that the abandoned equipment was worth only about $7.1 billion.\n",
            "\n",
            "President Trump's claim not only distorts the actual financial commitment but also misrepresents the condition of the equipment left behind. While it's true that some equipment was rendered inoperable before the US withdrawal, the majority of the equipment provided was valuable and operational. The $83 billion figure Trump cited is closer to the total amount Congress appropriated for the Afghan security forces fund, not a direct transfer of military equipment value. This figure includes a minor portion for equipment, further discrediting the claim of a massive $85 billion \"gift\" to the Taliban.\n",
            "\n",
            "The flawed narrative presented by President Trump undermines the complexity of the US-Afghan military relationship and the economic realities of war funding. By inflating the value of the equipment left behind and misrepresenting the total funding, Trump's statement fails to acknowledge the significant investment made by the US in supporting Afghan forces. The reality is that the US provided substantial military aid, but the claim of an $85 billion \"gift\" to the Taliban is a gross exaggeration that misleads the public and oversimplifies the nuanced economic and military dynamics of the conflict.\n",
            "\n",
            "================================================================================\n",
            "\n",
            "Counter-narrative for claim 3:\n",
            "  The discourse surrounding the urgency of global threats has often been polarized, with former President Trump prioritizing the specter of nuclear conflict over the existential crisis of climate change. However, this stance is not only misinformed but dangerously dismissive of the scientific consensus and the immediate reality of climate change impacts.\n",
            "\n",
            "\n",
            "Contrary to Trump's assertion that the ocean's rise over the next 400 years would be negligible, NASA's data reveals a starkly different picture. The global average sea level has been rising at a rate of 0.17 inches per year in 2023, a figure that is more than double the rate Trump suggested. This acceleration is not a distant future concern but a present-day crisis, with the rate of rise between 2014 and 2023 being about 0.19 inches per year. The misleading claim that sea levels would only rise by an eighth of an inch over 400 years grossly underestimates the current pace and trajectory of sea-level rise.\n",
            "\n",
            "\n",
            "The implications of this accelerated sea-level rise are profound and far-reaching. Coastal regions, including Trump's home state of Florida, are expected to experience disproportionate effects, with rising seas threatening to inundate homes, displace communities, and devastate ecosystems. The notion that rising seas could create more oceanfront property is a dangerous fallacy that overlooks the catastrophic consequences for human settlements and natural habitats. The reality is that climate change poses an immediate and escalating threat to global security, economic stability, and the very survival of countless species, including our own. Trump's misrepresentation of the facts not only undermines informed public discourse but also hinders the urgent action required to address this global emergency.\n",
            "\n",
            "================================================================================\n",
            "\n",
            "Counter-narrative for claim 4:\n",
            "  In the midst of a heated exchange between former President Donald Trump and Tesla CEO Elon Musk, Trump made a bold claim that Musk's words were being heard by an audience of \"like 60 million or something.\" This statement, made during a publicly televised event, has since been scrutinized for its accuracy.\n",
            "\n",
            "Contrary to Trump's assertion, the actual number of accounts listening to the conversation was a mere 1.1 million, as per public data on the platform where the discussion took place. Trump's figure was not only inflated but also misleading, as it conflated the number of viewers of his own post with the number of people who actively listened to the conversation. The majority of the post's viewers were likely passive observers, not engaged participants in the dialogue.\n",
            "\n",
            "The claim made by Trump not only misrepresents the scale of the audience but also undermines the credibility of his statements. It is essential to recognize that such exaggerations do not reflect the reality of the situation. Historical economic trends, such as the Great Inflation of the 1970s, demonstrate the importance of accurate data in understanding economic phenomena. Inflation, defined as the rate at which the general level of prices for goods and services is rising, and subsequently, purchasing power is falling, requires precise measurement and analysis. Trump's inflated claim about the audience size is akin to misrepresenting economic data, which can lead to misguided policies and public misperception. It is crucial to rely on factual information to make informed decisions and understand the true scope of economic and social issues.\n",
            "\n",
            "================================================================================\n",
            "\n",
            "Counter-narrative for claim 5:\n",
            "  In the heated political climate of the 2020 presidential campaign, former President Trump's remarks about Kamala Harris's stance on immigration detention centers have sparked controversy and misinformation. Trump's claim that Harris \"wants to release all the prisoners that are in detention\" misrepresents her position and the complexities of immigration policy.\n",
            "\n",
            "Harris's actual position, as stated during her 2019 presidential campaign, was to close privately-run immigration detention centers, not to release all detainees. This nuanced stance reflects a broader understanding of the issues surrounding immigration detention, which has been a contentious topic in American politics. The claim by Trump overlooks the distinction between privately-run immigration detention facilities and the broader prison system, which includes federal and state prisons that house a wide range of offenders.\n",
            "\n",
            "The misrepresentation of Harris's position by Trump not only distorts the facts but also oversimplifies the intricate dynamics of immigration detention and the criminal justice system. It is crucial to recognize that Harris's proposal aimed at reforming a specific aspect of the immigration system, not a sweeping release of all detainees. This clarification is essential in understanding the realities of immigration policy and the importance of accurate representation in political discourse. Trump's claim, therefore, is not only false but also detrimental to informed public debate on this critical issue.\n",
            "\n",
            "================================================================================\n",
            "\n",
            "Counter-narrative for claim 6:\n",
            "  In the midst of the Biden administration's efforts to address the root causes of migration from Central America, former Vice President Kamala Harris was assigned a diplomatic role, not the oversight of border security. The term \"border czar\" has been a misleading label, as the White House has consistently clarified that Harris's responsibilities were centered on diplomacy with El Salvador, Guatemala, and Honduras.\n",
            "\n",
            "\n",
            "The claim that Harris was the \"border czar\" and \"totally in charge\" of the border is a gross misrepresentation of her actual duties. In reality, the official in charge of border security is Homeland Security Secretary Alejandro Mayorkas. Biden's Executive Order in February 2021 called for a Root Causes Strategy, and it was Harris who led the diplomatic efforts to address the factors causing migration in the Northern Triangle countries. This assignment was a more limited immigration-related task, focusing on diplomacy rather than border security management.\n",
            "\n",
            "\n",
            "The misleading narrative that Harris was the \"border czar\" not only distorts the facts but also undermines the complexity of the administration's approach to immigration. By attributing a broader scope of responsibility to Harris than she had, the claim fails to recognize the nuanced and multifaceted nature of the administration's immigration strategy. The reality is that Harris's role was specific to diplomatic efforts to address the root causes of migration, not the comprehensive management of border security.\n",
            "\n",
            "================================================================================\n",
            "\n",
            "Counter-narrative for claim 8:\n",
            "  In the tumultuous arena of American politics, claims of election subversion have periodically surfaced, often casting long shadows over the democratic process. The former President, Donald Trump, has been a vocal proponent of such narratives, alleging that the Biden administration orchestrated legal actions against him in various jurisdictions. These claims, however, are not only baseless but also detrimental to the integrity of the electoral system.\n",
            "\n",
            "The Manhattan case, where Trump was found guilty, is a prime example of the fallacy in Trump's assertions. Attorney General Merrick Garland's testimony to Congress clarified that the Manhattan district attorney operates independently of the federal government, including the Justice Department. This autonomy is a cornerstone of the American legal system, ensuring that local jurisdictions can enforce state laws without federal interference. Furthermore, Matthew Colangelo, the lawyer Trump repeatedly cited, was not appointed by the Biden administration but was a colleague from the New York attorney general's office before joining Bragg's office. This fact alone dismantles the notion of a coordinated effort by the Biden administration to target Trump.\n",
            "\n",
            "The reality of inflation trends and economic milestones further underscores the misleading nature of Trump's claims. Inflation, a complex economic phenomenon influenced by a myriad of factors including monetary policy, supply chain disruptions, and global events, cannot be attributed to a single administration's actions. Historical data shows that inflation rates have fluctuated over the decades, with significant periods of both high and low inflation. The current inflationary trends are a result of a confluence of global economic challenges, not the machinations of any one political entity. Trump's unfounded allegations not only misrepresent the facts but also undermine the public's understanding of economic realities. The evidence clearly refutes the claim that the Biden administration orchestrated legal actions against Trump, highlighting the importance of basing political discourse on facts rather than unfounded accusations.\n",
            "\n",
            "================================================================================\n",
            "\n",
            "Counter-narrative for claim 9:\n",
            "  In the context of the United States' healthcare system, the Right to Try law signed by former President Donald Trump in 2018 was presented as a solution for terminally ill patients seeking experimental treatments. The law aimed to bypass the FDA's rigorous approval process, allowing patients to access unapproved drugs without going abroad. However, this claim overlooks the existing framework that already facilitated access to experimental medications.\n",
            "\n",
            "\n",
            "Before the Right to Try law, terminally ill patients could request access to experimental drugs through the FDA's \"expanded access\" program. Former FDA Commissioner Scott Gottlieb testified to Congress in 2017 that the FDA had approved 99% of such requests. This program, which was in place long before the law, allowed patients to receive potentially life-saving treatments without the need to travel overseas or rely on the government's approval. The program's efficiency and high approval rate demonstrate that the claim of patients having no recourse is unfounded.\n",
            "\n",
            "\n",
            "The assertion that patients would have no choice but to die without access to experimental treatments is a misleading portrayal of the healthcare system's capabilities. The historical data and the FDA's own statistics clearly refute the claim, showing that terminally ill patients had ample options for accessing experimental medications within the United States. The Right to Try law, while well-intentioned, was not a necessity for patients seeking treatment but rather an additional option within an already functioning system.\n",
            "\n",
            "================================================================================\n",
            "\n"
          ]
        },
        {
          "output_type": "stream",
          "name": "stderr",
          "text": [
            "You seem to be using the pipelines sequentially on GPU. In order to maximize efficiency please use a dataset\n"
          ]
        },
        {
          "output_type": "stream",
          "name": "stdout",
          "text": [
            "Counter-narrative for claim 10:\n",
            "  In the tumultuous arena of American politics, claims of election subversion have periodically surfaced, often casting long shadows over the democratic process. The former President, Donald Trump, has been a vocal proponent of such narratives, alleging that the Biden administration orchestrated legal actions against him in various jurisdictions. These claims, however, are not only baseless but also detrimental to the integrity of the electoral system.\n",
            "\n",
            "The Manhattan case, where Trump was found guilty, is a prime example of the fallacy in Trump's assertions. Attorney General Merrick Garland's testimony to Congress clarified that the Manhattan district attorney operates independently of the federal government, including the Justice Department. This autonomy is a cornerstone of the American legal system, ensuring that local jurisdictions can enforce state laws without federal interference. Furthermore, Matthew Colangelo, the lawyer Trump repeatedly cited, was not appointed by the Biden administration but was a colleague from the New York attorney general's office before joining Bragg's office. This fact alone dismantles the notion of a coordinated effort by the Biden administration to target Trump.\n",
            "\n",
            "The reality of inflation trends and economic milestones further underscores the misleading nature of Trump's claims. Inflation, a complex economic phenomenon influenced by a myriad of factors including monetary policy, supply chain disruptions, and global events, cannot be attributed to a single administration's actions. Historical data shows that inflation rates have fluctuated over the decades, with significant periods of both high and low inflation. The current inflationary trends are a result of a confluence of global economic challenges, not the machinations of any one political entity. Trump's unfounded allegations not only misrepresent the facts but also undermine the public's understanding of economic realities. The evidence clearly refutes the claim that the Biden administration orchestrated legal actions against Trump, highlighting the importance of basing political discourse on facts rather than unfounded accusations.\n",
            "\n",
            "================================================================================\n",
            "\n",
            "Counter-narrative for claim 11:\n",
            "  In the context of President Trump's tenure, his administration's \"maximum pressure\" campaign against Iran aimed to cripple the country's economy and curtail its alleged support for terrorist organizations. The claim that Iran had \"no money\" for groups like Hamas and Hezbollah during Trump's presidency is a gross misrepresentation of the complex economic and geopolitical landscape.\n",
            "\n",
            "Contrary to Trump's assertions, Iran's funding for these groups did not cease entirely. While sanctions undoubtedly strained Iran's economy, leading to a decline in available resources, experts and former officials have consistently reported that Iran continued to allocate funds to these organizations. In fact, the Trump administration's own 2020 report acknowledged ongoing Iranian support for terror groups, including Hezbollah. This contradicts Trump's claim and highlights the administration's tendency to exaggerate the impact of its policies.\n",
            "\n",
            "The flaws in Trump's claim are evident when considering the historical context and the reality of Iran's economic situation. Despite the sanctions, Iran's economy remained resilient, with the country continuing to find ways to support its allies and maintain its regional influence. The claim that Iran had \"no money\" for terror groups is not only factually incorrect but also undermines the nuanced understanding of the geopolitical dynamics at play. It is crucial to recognize the limitations of sanctions and the complexities of international relations when evaluating the effectiveness of such policies.\n",
            "\n",
            "================================================================================\n",
            "\n",
            "Counter-narrative for claim 12:\n",
            "  In the context of international relations and economic sanctions, the claim by former President Donald Trump that he compelled China to cease purchasing oil from Iran is a misleading assertion. During his presidency, the Trump administration indeed sought to curtail Iran's oil exports, a significant source of revenue for the Islamic Republic. In 2019, the administration's efforts led to a temporary decline in China's oil imports from Iran, which fell from around 800,000 barrels per day in 2018 to approximately 100,000 barrels per day by late 2019. However, this reduction was not sustained, and imports rebounded to levels between 600,000 and 700,000 barrels per day by the time Trump left office in January 2021.\n",
            "\n",
            "\n",
            "The claim that China ceased its oil purchases from Iran under Trump's leadership is factually incorrect. Industry experts, including Matt Smith from Kpler, have noted that China's reported crude imports from Iran in January 2021 were zero, but this does not reflect the reality of ongoing trade. China has been known to employ various methods to obscure its oil purchases, such as listing Iranian crude as originating from Malaysia or transferring oil to other vessels once near Malaysian waters. These tactics have allowed China to continue its oil imports from Iran despite international sanctions.\n",
            "\n",
            "\n",
            "The narrative that Trump single-handedly pressured China to stop buying Iranian oil is not only false but also overlooks the complexities of international trade and the resilience of global supply chains. The International Crisis Group's report by Ali Vaez confirms that China's oil imports from Iran increased significantly after the Trump administration's efforts. This refutation underscores the fallacy of Trump's claim and highlights the importance of understanding the nuanced dynamics of global oil markets and the limitations of unilateral sanctions in altering long-standing trade relationships.\n",
            "\n",
            "================================================================================\n",
            "\n"
          ]
        }
      ]
    },
    {
      "cell_type": "markdown",
      "source": [
        "**RESULTS**\n",
        "\n",
        "\n",
        "\n",
        "* **90% cases**: The model generates stories within the specified word limit.\n",
        "\n",
        "* **85% cases**: The model selects appropriate titles for public figures as per the guidelines.\n",
        "\n",
        "* **100% cases**: The model adheres to the given story structure.\n",
        "* **100% cases**: The generated stories exhibit coherence.\n",
        "\n",
        "\n",
        "\n",
        "\n",
        "\n",
        "\n",
        "\n",
        "\n"
      ],
      "metadata": {
        "id": "NIwIANE-knH9"
      }
    }
  ]
}